{
 "cells": [
  {
   "metadata": {
    "collapsed": true,
    "ExecuteTime": {
     "end_time": "2025-05-13T05:58:13.367306Z",
     "start_time": "2025-05-13T05:58:06.641243Z"
    }
   },
   "cell_type": "code",
   "source": "from load_data import load_data_from_folder, integrate_ankle_insole, process_camargo_data, normalize_ankle_angle",
   "id": "initial_id",
   "outputs": [],
   "execution_count": 2
  },
  {
   "cell_type": "code",
   "id": "a35bf3d4584b4e68",
   "metadata": {
    "ExecuteTime": {
     "end_time": "2025-05-13T05:59:02.012022Z",
     "start_time": "2025-05-13T05:58:34.495596Z"
    }
   },
   "source": "camargo_ds = process_camargo_data(\"data/camargo/data/\")",
   "outputs": [
    {
     "name": "stderr",
     "output_type": "stream",
     "text": [
      "Processing camargo: 100%|██████████| 1101/1101 [00:27<00:00, 40.21it/s]\n"
     ]
    }
   ],
   "execution_count": 5
  },
  {
   "cell_type": "code",
   "id": "5dae553f89ff9927",
   "metadata": {
    "ExecuteTime": {
     "end_time": "2025-05-13T06:12:05.629204Z",
     "start_time": "2025-05-13T06:12:05.619045Z"
    }
   },
   "source": [
    "def vote_activity(imu_data):\n",
    "    activities = [data.activity for data in imu_data]\n",
    "    activity_counts = {activity: activities.count(activity) for activity in set(activities)}\n",
    "    # sort by count\n",
    "    sorted_activities = sorted(activity_counts.items(), key=lambda x: x[1], reverse=True)\n",
    "    # return the most common activity that is not idle\n",
    "    for activity, count in sorted_activities:\n",
    "        if activity != \"idle\" and '-' not in activity and activity != \"stand\":\n",
    "            return activity"
   ],
   "outputs": [],
   "execution_count": 10
  },
  {
   "cell_type": "code",
   "id": "d016d005238f5a50",
   "metadata": {
    "ExecuteTime": {
     "end_time": "2025-05-13T06:12:06.072417Z",
     "start_time": "2025-05-13T06:12:06.068701Z"
    }
   },
   "source": [
    "class Segment:\n",
    "    def __init__(self):\n",
    "        self.start_time = 0\n",
    "        self.end_time = 0\n",
    "        self.data = []\n",
    "        self.activity = None\n",
    "\n",
    "    def add_data(self, data):\n",
    "        self.data.append(data)\n",
    "        if self.start_time == 0:\n",
    "            self.start_time = data.timestep\n",
    "        self.end_time = data.timestep\n",
    "\n",
    "    def detect_activity(self):\n",
    "        if self.data:\n",
    "            self.activity = vote_activity(self.data) or \"misc\"\n",
    "            if self.end_time-self.start_time > 3:\n",
    "                self.activity = \"misc\"\n",
    "            if \"turn\" in self.activity:\n",
    "                self.activity = \"walk\"\n",
    "        else:\n",
    "            self.activity = None\n",
    "\n",
    "    def interval(self):\n",
    "        return self.end_time - self.start_time"
   ],
   "outputs": [],
   "execution_count": 11
  },
  {
   "cell_type": "code",
   "id": "6b92da7eaef59535",
   "metadata": {
    "ExecuteTime": {
     "end_time": "2025-05-13T06:12:07.186612Z",
     "start_time": "2025-05-13T06:12:06.672549Z"
    }
   },
   "source": [
    "segments = []\n",
    "for dataset in camargo_ds:\n",
    "    current_segment = Segment()\n",
    "    integrate_ankle_insole(dataset)\n",
    "    for data in dataset:\n",
    "        if data.heel_striking:\n",
    "            if current_segment.data:\n",
    "                segments.append(current_segment)\n",
    "            current_segment = Segment()\n",
    "        current_segment.add_data(data)\n",
    "    segments.append(current_segment)"
   ],
   "outputs": [],
   "execution_count": 12
  },
  {
   "cell_type": "code",
   "id": "696865e4e00fdfdc",
   "metadata": {
    "ExecuteTime": {
     "end_time": "2025-05-13T06:12:35.908790Z",
     "start_time": "2025-05-13T06:12:34.286443Z"
    }
   },
   "source": [
    "# add segments to dataset\n",
    "from dataset import StrideClassificationDataset\n",
    "training_ds = StrideClassificationDataset(segments)\n",
    "print(len(training_ds))"
   ],
   "outputs": [
    {
     "name": "stdout",
     "output_type": "stream",
     "text": [
      "13772\n"
     ]
    }
   ],
   "execution_count": 14
  },
  {
   "cell_type": "code",
   "id": "7fa7a5d6946e68bc",
   "metadata": {
    "ExecuteTime": {
     "end_time": "2025-05-13T06:12:36.351957Z",
     "start_time": "2025-05-13T06:12:36.349526Z"
    }
   },
   "source": [
    "num_classes = len(training_ds.get_label_encoder().classes_)\n",
    "print(f\"Number of classes: {num_classes}\")"
   ],
   "outputs": [
    {
     "name": "stdout",
     "output_type": "stream",
     "text": [
      "Number of classes: 6\n"
     ]
    }
   ],
   "execution_count": 15
  },
  {
   "cell_type": "code",
   "id": "3f111119f606fd05",
   "metadata": {
    "ExecuteTime": {
     "end_time": "2025-05-13T06:12:36.825303Z",
     "start_time": "2025-05-13T06:12:36.819662Z"
    }
   },
   "source": [
    "training_ds.get_label_encoder().classes_"
   ],
   "outputs": [
    {
     "data": {
      "text/plain": [
       "array(['misc', 'rampascent', 'rampdescent', 'stairascent', 'stairdescent',\n",
       "       'walk'], dtype='<U12')"
      ]
     },
     "execution_count": 16,
     "metadata": {},
     "output_type": "execute_result"
    }
   ],
   "execution_count": 16
  },
  {
   "cell_type": "code",
   "id": "b4832475ec7bd2b2",
   "metadata": {
    "ExecuteTime": {
     "end_time": "2025-05-13T06:12:37.235696Z",
     "start_time": "2025-05-13T06:12:37.231949Z"
    }
   },
   "source": [
    "from collections import Counter\n",
    "print(Counter(seg.activity for seg in segments))"
   ],
   "outputs": [
    {
     "name": "stdout",
     "output_type": "stream",
     "text": [
      "Counter({'misc': 5636, 'walk': 2670, 'rampdescent': 1995, 'rampascent': 1826, 'stairascent': 825, 'stairdescent': 820})\n"
     ]
    }
   ],
   "execution_count": 17
  },
  {
   "cell_type": "code",
   "id": "970cc601c9d24c9c",
   "metadata": {
    "ExecuteTime": {
     "end_time": "2025-05-13T06:12:37.838600Z",
     "start_time": "2025-05-13T06:12:37.545035Z"
    }
   },
   "source": [
    "from torch.utils.data import DataLoader, Subset\n",
    "from sklearn.model_selection import train_test_split\n",
    "\n",
    "# Split dataset into train, validation, and test sets\n",
    "indices = list(range(len(training_ds)))\n",
    "labels = [training_ds[i][1] for i in indices]\n",
    "\n",
    "# 70% train, 15% val, 15% test\n",
    "train_indices, temp_indices = train_test_split(\n",
    "    indices,\n",
    "    test_size=0.3,\n",
    "    stratify=labels,\n",
    "    random_state=42\n",
    ")\n",
    "\n",
    "val_test_labels = [labels[i] for i in temp_indices]\n",
    "val_indices, test_indices = train_test_split(\n",
    "    temp_indices,\n",
    "    test_size=0.5,\n",
    "    stratify=val_test_labels,\n",
    "    random_state=42\n",
    ")\n",
    "\n",
    "train_subset = Subset(training_ds, train_indices)\n",
    "val_subset = Subset(training_ds, val_indices)\n",
    "test_subset = Subset(training_ds, test_indices)\n",
    "\n",
    "train_loader = DataLoader(train_subset, batch_size=32, shuffle=True)\n",
    "val_loader = DataLoader(val_subset, batch_size=32, shuffle=False)\n",
    "test_loader = DataLoader(test_subset, batch_size=32, shuffle=False)"
   ],
   "outputs": [],
   "execution_count": 18
  },
  {
   "cell_type": "code",
   "id": "97f292afab26c833",
   "metadata": {
    "ExecuteTime": {
     "end_time": "2025-05-13T06:13:39.220207Z",
     "start_time": "2025-05-13T06:13:39.149738Z"
    }
   },
   "source": [
    "import torch\n",
    "import torch.nn as nn\n",
    "import torch.optim as optim\n",
    "from models import StrideClassificationCNN\n",
    "\n",
    "if torch.mps.is_available():\n",
    "    print(\"Using MPS (Apple) device\")\n",
    "    device = torch.device('mps')\n",
    "elif torch.cuda.is_available():\n",
    "    print(\"Using CUDA (Nvidia) device\")\n",
    "    device = torch.device('cuda')\n",
    "else:\n",
    "    print(\"Using CPU device\")\n",
    "    device = torch.device('cpu')\n",
    "model = StrideClassificationCNN(input_channels=7, num_classes=len(training_ds.get_label_encoder().classes_)).to(device)\n",
    "\n",
    "criterion = nn.CrossEntropyLoss()\n",
    "optimizer = optim.Adam(model.parameters(), lr=1e-3)"
   ],
   "outputs": [],
   "execution_count": 21
  },
  {
   "cell_type": "code",
   "id": "f0d4fa54a846c152",
   "metadata": {
    "ExecuteTime": {
     "end_time": "2025-05-13T06:14:49.706268Z",
     "start_time": "2025-05-13T06:13:41.584122Z"
    }
   },
   "source": [
    "from sklearn.metrics import accuracy_score\n",
    "import matplotlib.pyplot as plt\n",
    "\n",
    "train_losses = []\n",
    "val_accuracies = []\n",
    "\n",
    "for epoch in range(30):\n",
    "    model.train()\n",
    "    total_loss = 0\n",
    "    for X_batch, y_batch in train_loader:\n",
    "        X_batch, y_batch = X_batch.to(device), y_batch.to(device)\n",
    "        optimizer.zero_grad()\n",
    "        outputs = model(X_batch)\n",
    "        loss = criterion(outputs, y_batch)\n",
    "        loss.backward()\n",
    "        optimizer.step()\n",
    "        total_loss += loss.item()\n",
    "\n",
    "    train_losses.append(total_loss / len(train_loader))\n",
    "\n",
    "    # Evaluate on validation set\n",
    "    model.eval()\n",
    "    val_preds = []\n",
    "    val_labels = []\n",
    "    with torch.no_grad():\n",
    "        for X_batch, y_batch in val_loader:\n",
    "            X_batch = X_batch.to(device)\n",
    "            outputs = model(X_batch)\n",
    "            preds = torch.argmax(outputs, dim=1).cpu()\n",
    "            val_preds.extend(preds.numpy())\n",
    "            val_labels.extend(y_batch.numpy())\n",
    "    val_accuracy = accuracy_score(val_labels, val_preds)\n",
    "    val_accuracies.append(val_accuracy)\n",
    "\n",
    "    print(f\"Epoch {epoch+1}, Loss: {train_losses[-1]:.4f}, Val Acc: {val_accuracy:.4f}\")\n",
    "\n",
    "# Plot training loss\n",
    "plt.figure()\n",
    "plt.plot(train_losses, label=\"Train Loss\")\n",
    "plt.xlabel(\"Epoch\")\n",
    "plt.ylabel(\"Loss\")\n",
    "plt.title(\"Training Loss\")\n",
    "plt.legend()\n",
    "plt.show()\n",
    "\n",
    "# Plot validation accuracy\n",
    "plt.figure()\n",
    "plt.plot(val_accuracies, label=\"Validation Accuracy\")\n",
    "plt.xlabel(\"Epoch\")\n",
    "plt.ylabel(\"Accuracy\")\n",
    "plt.title(\"Validation Accuracy\")\n",
    "plt.legend()\n",
    "plt.show()"
   ],
   "outputs": [
    {
     "name": "stdout",
     "output_type": "stream",
     "text": [
      "Epoch 1, Loss: 0.3911, Val Acc: 0.9351\n",
      "Epoch 2, Loss: 0.1802, Val Acc: 0.9758\n",
      "Epoch 3, Loss: 0.1153, Val Acc: 0.9753\n",
      "Epoch 4, Loss: 0.1170, Val Acc: 0.9719\n",
      "Epoch 5, Loss: 0.1005, Val Acc: 0.9763\n",
      "Epoch 6, Loss: 0.0854, Val Acc: 0.9792\n",
      "Epoch 7, Loss: 0.0681, Val Acc: 0.9898\n",
      "Epoch 8, Loss: 0.0713, Val Acc: 0.9811\n",
      "Epoch 9, Loss: 0.0517, Val Acc: 0.9811\n",
      "Epoch 10, Loss: 0.0586, Val Acc: 0.9826\n",
      "Epoch 11, Loss: 0.0531, Val Acc: 0.9864\n",
      "Epoch 12, Loss: 0.0520, Val Acc: 0.9821\n",
      "Epoch 13, Loss: 0.0565, Val Acc: 0.9739\n",
      "Epoch 14, Loss: 0.0432, Val Acc: 0.9874\n",
      "Epoch 15, Loss: 0.0400, Val Acc: 0.9913\n",
      "Epoch 16, Loss: 0.0476, Val Acc: 0.9869\n",
      "Epoch 17, Loss: 0.0329, Val Acc: 0.9826\n",
      "Epoch 18, Loss: 0.0307, Val Acc: 0.9845\n",
      "Epoch 19, Loss: 0.0334, Val Acc: 0.9855\n",
      "Epoch 20, Loss: 0.0376, Val Acc: 0.9714\n",
      "Epoch 21, Loss: 0.0446, Val Acc: 0.9840\n",
      "Epoch 22, Loss: 0.0294, Val Acc: 0.9908\n",
      "Epoch 23, Loss: 0.0225, Val Acc: 0.9855\n",
      "Epoch 24, Loss: 0.0386, Val Acc: 0.9898\n",
      "Epoch 25, Loss: 0.0291, Val Acc: 0.9918\n",
      "Epoch 26, Loss: 0.0310, Val Acc: 0.9908\n",
      "Epoch 27, Loss: 0.0215, Val Acc: 0.9898\n",
      "Epoch 28, Loss: 0.0195, Val Acc: 0.9903\n",
      "Epoch 29, Loss: 0.0248, Val Acc: 0.9850\n",
      "Epoch 30, Loss: 0.0245, Val Acc: 0.9864\n"
     ]
    },
    {
     "data": {
      "text/plain": [
       "<Figure size 640x480 with 1 Axes>"
      ],
      "image/png": "[encoded data removed]"
     },
     "metadata": {},
     "output_type": "display_data"
    },
    {
     "data": {
      "text/plain": [
       "<Figure size 640x480 with 1 Axes>"
      ],
      "image/png": "[encoded data removed]"
     },
     "metadata": {},
     "output_type": "display_data"
    }
   ],
   "execution_count": 22
  },
  {
   "cell_type": "code",
   "id": "899f6b977f4f53a6",
   "metadata": {
    "ExecuteTime": {
     "end_time": "2025-05-13T06:14:53.420721Z",
     "start_time": "2025-05-13T06:14:53.404990Z"
    }
   },
   "source": [
    "# save model\n",
    "torch.save(model.state_dict(), \"stride_classification_model.pth\")"
   ],
   "outputs": [],
   "execution_count": 23
  },
  {
   "cell_type": "code",
   "id": "ef5fa76576099040",
   "metadata": {
    "ExecuteTime": {
     "end_time": "2025-05-13T06:14:53.426985Z",
     "start_time": "2025-05-13T06:14:53.425205Z"
    }
   },
   "source": [
    "# load a previous model\n",
    "# model = StrideClassificationCNN(input_channels=7, num_classes=len(training_ds.get_label_encoder().classes_)).to(device)\n",
    "# model.load_state_dict(torch.load(\"stride_classification_model.pth\"))"
   ],
   "outputs": [],
   "execution_count": 24
  },
  {
   "cell_type": "code",
   "id": "274c47813b7008b",
   "metadata": {
    "ExecuteTime": {
     "end_time": "2025-05-13T06:15:14.886489Z",
     "start_time": "2025-05-13T06:15:14.709286Z"
    }
   },
   "source": [
    "# Final evaluation on test set\n",
    "from sklearn.metrics import classification_report\n",
    "model.eval()\n",
    "all_preds = []\n",
    "all_labels = []\n",
    "\n",
    "with torch.no_grad():\n",
    "    for X_batch, y_batch in test_loader:\n",
    "        X_batch = X_batch.to(device)\n",
    "        outputs = model(X_batch)\n",
    "        preds = torch.argmax(outputs, dim=1).cpu()\n",
    "        all_preds.extend(preds.numpy())\n",
    "        all_labels.extend(y_batch.numpy())\n",
    "\n",
    "# Decode and print classification report\n",
    "label_encoder = training_ds.get_label_encoder()\n",
    "labels = list(range(len(label_encoder.classes_)))\n",
    "print(\"Test Classification Report:\")\n",
    "print(classification_report(all_labels, all_preds, labels=labels, target_names=label_encoder.classes_))"
   ],
   "outputs": [
    {
     "name": "stdout",
     "output_type": "stream",
     "text": [
      "Test Classification Report:\n",
      "              precision    recall  f1-score   support\n",
      "\n",
      "        misc       0.98      0.99      0.99       846\n",
      "  rampascent       0.99      0.99      0.99       274\n",
      " rampdescent       1.00      0.96      0.98       299\n",
      " stairascent       1.00      0.99      1.00       124\n",
      "stairdescent       1.00      1.00      1.00       123\n",
      "        walk       0.98      0.98      0.98       400\n",
      "\n",
      "    accuracy                           0.99      2066\n",
      "   macro avg       0.99      0.99      0.99      2066\n",
      "weighted avg       0.99      0.99      0.99      2066\n",
      "\n"
     ]
    }
   ],
   "execution_count": 26
  },
  {
   "cell_type": "code",
   "id": "36138a43de91e939",
   "metadata": {
    "ExecuteTime": {
     "end_time": "2025-05-13T06:20:13.034490Z",
     "start_time": "2025-05-13T06:20:11.176526Z"
    }
   },
   "source": [
    "michael_walk_data, insole_data, _ = load_data_from_folder(\"data/04_03_walk/\", [159], [202], 0, 30.5731)\n",
    "integrate_ankle_insole(michael_walk_data, insole_data)\n",
    "michael_walk_data = normalize_ankle_angle(michael_walk_data)\n",
    "for data in michael_walk_data:\n",
    "    data.activity = \"walk\"\n",
    "\n",
    "michael_downramp_data, insole_data, _ = load_data_from_folder(\"data/01_16_ramp/\", [10,43], [20,55], 0, -0.8789)\n",
    "integrate_ankle_insole(michael_downramp_data, insole_data)\n",
    "michael_downramp_data = normalize_ankle_angle(michael_downramp_data)\n",
    "for data in michael_downramp_data:\n",
    "    data.activity = \"rampdescent\"\n",
    "\n",
    "michael_upramp_data, insole_data, _ = load_data_from_folder(\"data/01_16_ramp/\", [23,62], [34,71], 0, -0.8789)\n",
    "integrate_ankle_insole(michael_upramp_data, insole_data)\n",
    "michael_upramp_data = normalize_ankle_angle(michael_upramp_data)\n",
    "for data in michael_upramp_data:\n",
    "    data.activity = \"rampascent\"\n",
    "\n",
    "michael_downstairs_data, insole_data, _ = load_data_from_folder(\"data/01_22_downstairs/\", 20, 1e9, 0, 0.3675)\n",
    "integrate_ankle_insole(michael_downstairs_data, insole_data)\n",
    "michael_downstairs_data = normalize_ankle_angle(michael_downstairs_data)\n",
    "for data in michael_downstairs_data:\n",
    "    data.activity = \"stairdescent\"\n",
    "\n",
    "michael_upstairs_data, insole_data, _ = load_data_from_folder(\"data/01_22_upstairs/\", 0, 1e9, 0, 2.5461)\n",
    "integrate_ankle_insole(michael_upstairs_data, insole_data)\n",
    "michael_upstairs_data = normalize_ankle_angle(michael_upstairs_data)\n",
    "for data in michael_upstairs_data:\n",
    "    data.activity = \"stairascent\"\n",
    "\n",
    "mohsen_walk_data, insole_data, _ = load_data_from_folder(\"data/04_14_walk_stair_vending/\", 0, 1e9, 0, -60.3619)\n",
    "integrate_ankle_insole(mohsen_walk_data, insole_data)\n",
    "mohsen_walk_data = normalize_ankle_angle(mohsen_walk_data)\n",
    "for data in mohsen_walk_data:\n",
    "    data.activity = \"walk\"\n",
    "\n",
    "mohsen_walk_data2, insole_data, _ = load_data_from_folder(\"data/04_14_walk_vending_stair/\", 0, 1e9, 0, -6.8690)\n",
    "integrate_ankle_insole(mohsen_walk_data2, insole_data)\n",
    "mohsen_walk_data2 = normalize_ankle_angle(mohsen_walk_data2)\n",
    "for data in mohsen_walk_data2:\n",
    "    data.activity = \"walk\"\n",
    "\n",
    "mohsen_walk_data3, insole_data, _ = load_data_from_folder(\"data/04_14_outdoor_fitz_walk/\", 0, 1e9, 0, -7.9118)\n",
    "integrate_ankle_insole(mohsen_walk_data3, insole_data)\n",
    "mohsen_walk_data3 = normalize_ankle_angle(mohsen_walk_data3)\n",
    "for data in mohsen_walk_data3:\n",
    "    data.activity = \"walk\"\n",
    "\n",
    "mohsen_walk_data4, insole_data, _ = load_data_from_folder(\"data/04_14_walk_fitz_bond/\", 0, 1e9, 0, -35.8358)\n",
    "integrate_ankle_insole(mohsen_walk_data4, insole_data)\n",
    "mohsen_walk_data4 = normalize_ankle_angle(mohsen_walk_data4)\n",
    "for data in mohsen_walk_data4:\n",
    "    data.activity = \"walk\"\n",
    "\n",
    "mohsen_walk_data5, insole_data, _ = load_data_from_folder(\"data/04_14_walk_main_fitz/\", 0, 1e9, 0, 3.4172)\n",
    "integrate_ankle_insole(mohsen_walk_data5, insole_data)\n",
    "mohsen_walk_data5 = normalize_ankle_angle(mohsen_walk_data5)\n",
    "for data in mohsen_walk_data5:\n",
    "    data.activity = \"walk\"\n",
    "\n",
    "mohsen_downramp_data1, insole_data, _ = load_data_from_folder(\"data/04_14_downramp_bond_x2/\", 0, 1e9, 0, -22.4661)\n",
    "integrate_ankle_insole(mohsen_downramp_data1, insole_data)\n",
    "mohsen_downramp_data1 = normalize_ankle_angle(mohsen_downramp_data1)\n",
    "for data in mohsen_downramp_data1:\n",
    "    data.activity = \"rampdescent\"\n",
    "\n",
    "mohsen_downramp_data2, insole_data, _ = load_data_from_folder(\"data/04_14_downramp_lake/\", 0, 1e9, 0, -7.1484)\n",
    "integrate_ankle_insole(mohsen_downramp_data2, insole_data)\n",
    "mohsen_downramp_data2 = normalize_ankle_angle(mohsen_downramp_data2)\n",
    "for data in mohsen_downramp_data2:\n",
    "    data.activity = \"rampdescent\"\n",
    "\n",
    "mohsen_downramp_data3, insole_data, _ = load_data_from_folder(\"data/04_14_downramp_columba_hall/\", 0, 1e9, 0, 2.3692)\n",
    "integrate_ankle_insole(mohsen_downramp_data3, insole_data)\n",
    "mohsen_downramp_data3 = normalize_ankle_angle(mohsen_downramp_data3)\n",
    "for data in mohsen_downramp_data3:\n",
    "    data.activity = \"rampdescent\"\n",
    "\n",
    "mohsen_upramp_data1, insole_data, _ = load_data_from_folder(\"data/04_14_upramp_bond_x2/\", 0, 1e9, 0, 1.4235)\n",
    "integrate_ankle_insole(mohsen_upramp_data1, insole_data)\n",
    "mohsen_upramp_data1 = normalize_ankle_angle(mohsen_upramp_data1)\n",
    "for data in mohsen_upramp_data1:\n",
    "    data.activity = \"rampascent\"\n",
    "\n",
    "mohsen_upramp_data2, insole_data, _ = load_data_from_folder(\"data/04_14_upramp_lake/\", 0, 1e9, 0, 2.7880)\n",
    "integrate_ankle_insole(mohsen_upramp_data2, insole_data)\n",
    "mohsen_upramp_data2 = normalize_ankle_angle(mohsen_upramp_data2)\n",
    "for data in mohsen_upramp_data2:\n",
    "    data.activity = \"rampascent\"\n",
    "\n",
    "mohsen_upramp_data3, insole_data, _ = load_data_from_folder(\"data/04_14_upramp_columba_hall/\", 0, 1e9, 0, -7.3961)\n",
    "integrate_ankle_insole(mohsen_upramp_data3, insole_data)\n",
    "mohsen_upramp_data3 = normalize_ankle_angle(mohsen_upramp_data3)\n",
    "for data in mohsen_upramp_data3:\n",
    "    data.activity = \"rampascent\"\n",
    "\n",
    "mohsen_upstairs_data1, insole_data, _ = load_data_from_folder(\"data/04_14_upstairs_leftfoot_main/\", 0, 1e9, 0, -13.6291)\n",
    "integrate_ankle_insole(mohsen_upstairs_data1, insole_data)\n",
    "mohsen_upstairs_data1 = normalize_ankle_angle(mohsen_upstairs_data1)\n",
    "for data in mohsen_upstairs_data1:\n",
    "    data.activity = \"stairascent\"\n",
    "\n",
    "mohsen_upstairs_data2, insole_data, _ = load_data_from_folder(\"data/04_14_upstairs_rightfoot_main/\", 0, 1e9, 0, -11.0419)\n",
    "integrate_ankle_insole(mohsen_upstairs_data2, insole_data)\n",
    "mohsen_upstairs_data2 = normalize_ankle_angle(mohsen_upstairs_data2)\n",
    "for data in mohsen_upstairs_data2:\n",
    "    data.activity = \"stairascent\"\n",
    "\n",
    "mohsen_downstairs_data1, insole_data, _ = load_data_from_folder(\"data/04_14_downstairs_leftfoot_main/\", 0, 1e9, 0, 9.3960)\n",
    "integrate_ankle_insole(mohsen_downstairs_data1, insole_data)\n",
    "mohsen_downstairs_data1 = normalize_ankle_angle(mohsen_downstairs_data1)\n",
    "for data in mohsen_downstairs_data1:\n",
    "    data.activity = \"stairdescent\"\n",
    "\n",
    "mohsen_downstairs_data2, insole_data, _ = load_data_from_folder(\"data/04_14_downstairs_rightfoot_main/\", 0, 1e9, 0, 5.0417)\n",
    "integrate_ankle_insole(mohsen_downstairs_data2, insole_data)\n",
    "mohsen_downstairs_data2 = normalize_ankle_angle(mohsen_downstairs_data2)\n",
    "for data in mohsen_downstairs_data2:\n",
    "    data.activity = \"stairdescent\"\n",
    "\n",
    "michael_data = michael_walk_data + michael_downramp_data + michael_upramp_data + michael_downstairs_data + michael_upstairs_data\n",
    "mohsen_data = mohsen_walk_data + mohsen_walk_data2 + mohsen_walk_data3 + mohsen_walk_data4 + mohsen_walk_data5 + \\\n",
    "    mohsen_downramp_data1 + mohsen_downramp_data2 + mohsen_downramp_data3 + \\\n",
    "    mohsen_upramp_data1 + mohsen_upramp_data2 + mohsen_upramp_data3 + \\\n",
    "    mohsen_upstairs_data1 + mohsen_upstairs_data2 + \\\n",
    "    mohsen_downstairs_data1 + mohsen_downstairs_data2"
   ],
   "outputs": [],
   "execution_count": 29
  },
  {
   "cell_type": "code",
   "id": "2b028527985407ab",
   "metadata": {
    "ExecuteTime": {
     "end_time": "2025-05-13T06:20:14.358453Z",
     "start_time": "2025-05-13T06:20:14.250671Z"
    }
   },
   "source": [
    "segments = []\n",
    "current_segment = Segment()\n",
    "for data in mohsen_data:\n",
    "    if data.heel_striking:\n",
    "        if current_segment.data:\n",
    "            segments.append(current_segment)\n",
    "        current_segment = Segment()\n",
    "    current_segment.add_data(data)\n",
    "segments.append(current_segment)\n",
    "training_ds = StrideClassificationDataset(segments)"
   ],
   "outputs": [],
   "execution_count": 30
  },
  {
   "cell_type": "code",
   "id": "f5c69d70d6894476",
   "metadata": {
    "ExecuteTime": {
     "end_time": "2025-05-13T06:20:15.933469Z",
     "start_time": "2025-05-13T06:20:15.917300Z"
    }
   },
   "source": [
    "from torch.utils.data import DataLoader, Subset\n",
    "from sklearn.model_selection import train_test_split\n",
    "\n",
    "# Split dataset into train, validation, and test sets\n",
    "indices = list(range(len(training_ds)))\n",
    "labels = [training_ds[i][1] for i in indices]\n",
    "\n",
    "# 70% train, 30%\n",
    "train_indices, test_indices = train_test_split(\n",
    "    indices,\n",
    "    test_size=0.7,\n",
    "    stratify=labels,\n",
    "    random_state=42\n",
    ")\n",
    "\n",
    "train_subset = Subset(training_ds, train_indices)\n",
    "test_subset = Subset(training_ds, test_indices)\n",
    "\n",
    "train_loader = DataLoader(train_subset, batch_size=32, shuffle=True)\n",
    "test_loader = DataLoader(test_subset, batch_size=32, shuffle=False)"
   ],
   "outputs": [],
   "execution_count": 31
  },
  {
   "cell_type": "code",
   "id": "c0c4c30c66bdeca4",
   "metadata": {
    "ExecuteTime": {
     "end_time": "2025-05-13T06:20:18.044114Z",
     "start_time": "2025-05-13T06:20:16.604279Z"
    }
   },
   "source": [
    "from sklearn.metrics import accuracy_score\n",
    "import matplotlib.pyplot as plt\n",
    "\n",
    "train_losses = []\n",
    "val_accuracies = []\n",
    "\n",
    "for epoch in range(15):\n",
    "    model.train()\n",
    "    total_loss = 0\n",
    "    for X_batch, y_batch in train_loader:\n",
    "        X_batch, y_batch = X_batch.to(device), y_batch.to(device)\n",
    "        optimizer.zero_grad()\n",
    "        outputs = model(X_batch)\n",
    "        loss = criterion(outputs, y_batch)\n",
    "        loss.backward()\n",
    "        optimizer.step()\n",
    "        total_loss += loss.item()\n",
    "\n",
    "    train_losses.append(total_loss / len(train_loader))\n",
    "\n",
    "    print(f\"Epoch {epoch+1}, Loss: {train_losses[-1]:.4f}\")\n",
    "\n",
    "# Plot training loss\n",
    "plt.figure()\n",
    "plt.plot(train_losses, label=\"Train Loss\")\n",
    "plt.xlabel(\"Epoch\")\n",
    "plt.ylabel(\"Loss\")\n",
    "plt.title(\"Training Loss\")\n",
    "plt.legend()\n",
    "plt.show()"
   ],
   "outputs": [
    {
     "name": "stdout",
     "output_type": "stream",
     "text": [
      "Epoch 1, Loss: 3.6736\n",
      "Epoch 2, Loss: 1.0868\n",
      "Epoch 3, Loss: 0.9196\n",
      "Epoch 4, Loss: 0.8621\n",
      "Epoch 5, Loss: 0.7579\n",
      "Epoch 6, Loss: 0.7188\n",
      "Epoch 7, Loss: 0.6923\n",
      "Epoch 8, Loss: 0.6774\n",
      "Epoch 9, Loss: 0.5949\n",
      "Epoch 10, Loss: 0.5959\n",
      "Epoch 11, Loss: 0.6806\n",
      "Epoch 12, Loss: 0.5797\n",
      "Epoch 13, Loss: 0.5886\n",
      "Epoch 14, Loss: 0.5549\n",
      "Epoch 15, Loss: 0.6038\n"
     ]
    },
    {
     "data": {
      "text/plain": [
       "<Figure size 640x480 with 1 Axes>"
      ],
      "image/png": "[encoded data removed]"
     },
     "metadata": {},
     "output_type": "display_data"
    }
   ],
   "execution_count": 32
  },
  {
   "cell_type": "code",
   "id": "2ec01ed978fa173f",
   "metadata": {
    "ExecuteTime": {
     "end_time": "2025-05-13T06:20:22.631896Z",
     "start_time": "2025-05-13T06:20:22.492051Z"
    }
   },
   "source": [
    "# Final evaluation on test set\n",
    "from sklearn.metrics import classification_report\n",
    "model.eval()\n",
    "all_preds = []\n",
    "all_labels = []\n",
    "\n",
    "with torch.no_grad():\n",
    "    for X_batch, y_batch in test_loader:\n",
    "        X_batch = X_batch.to(device)\n",
    "        outputs = model(X_batch)\n",
    "        preds = torch.argmax(outputs, dim=1).cpu()\n",
    "        all_preds.extend(preds.numpy())\n",
    "        all_labels.extend(y_batch.numpy())\n",
    "\n",
    "# Decode and print classification report\n",
    "label_encoder = training_ds.get_label_encoder()\n",
    "labels = list(range(len(label_encoder.classes_)))\n",
    "print(\"Test Classification Report:\")\n",
    "print(classification_report(all_labels, all_preds, labels=labels, target_names=label_encoder.classes_))"
   ],
   "outputs": [
    {
     "name": "stdout",
     "output_type": "stream",
     "text": [
      "Test Classification Report:\n",
      "              precision    recall  f1-score   support\n",
      "\n",
      "        misc       0.47      0.41      0.44        22\n",
      "  rampascent       0.54      0.47      0.50       130\n",
      " rampdescent       0.57      0.30      0.40       125\n",
      " stairascent       0.53      0.63      0.58        30\n",
      "stairdescent       0.72      0.58      0.64        31\n",
      "        walk       0.81      0.92      0.86       577\n",
      "\n",
      "    accuracy                           0.74       915\n",
      "   macro avg       0.61      0.55      0.57       915\n",
      "weighted avg       0.72      0.74      0.72       915\n",
      "\n"
     ]
    }
   ],
   "execution_count": 33
  },
  {
   "cell_type": "code",
   "execution_count": null,
   "id": "bed864e33d235e2c",
   "metadata": {
    "ExecuteTime": {
     "end_time": "2025-04-03T21:22:22.956403Z",
     "start_time": "2025-04-03T21:22:22.954682Z"
    }
   },
   "outputs": [],
   "source": []
  }
 ],
 "metadata": {
  "kernelspec": {
   "display_name": "base",
   "language": "python",
   "name": "python3"
  },
  "language_info": {
   "codemirror_mode": {
    "name": "ipython",
    "version": 3
   },
   "file_extension": ".py",
   "mimetype": "text/x-python",
   "name": "python",
   "nbconvert_exporter": "python",
   "pygments_lexer": "ipython3",
   "version": "3.12.4"
  }
 },
 "nbformat": 4,
 "nbformat_minor": 5
}
