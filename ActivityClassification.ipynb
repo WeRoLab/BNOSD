{
 "cells": [
  {
   "cell_type": "code",
   "id": "initial_id",
   "metadata": {
    "collapsed": true,
    "ExecuteTime": {
     "end_time": "2025-04-24T20:25:17.566980Z",
     "start_time": "2025-04-24T20:25:13.154912Z"
    }
   },
   "source": [
    "from ray.tune.examples.pbt_tune_cifar10_with_keras import num_classes\n",
    "\n",
    "from load_data import load_data_from_folder, integrate_ankle_insole, process_camargo_data, normalize_ankle_angle"
   ],
   "outputs": [
    {
     "name": "stderr",
     "output_type": "stream",
     "text": [
      "2025-04-24 20:25:14.644201: E external/local_xla/xla/stream_executor/cuda/cuda_fft.cc:477] Unable to register cuFFT factory: Attempting to register factory for plugin cuFFT when one has already been registered\n",
      "WARNING: All log messages before absl::InitializeLog() is called are written to STDERR\n",
      "E0000 00:00:1745526314.708206    3358 cuda_dnn.cc:8310] Unable to register cuDNN factory: Attempting to register factory for plugin cuDNN when one has already been registered\n",
      "E0000 00:00:1745526314.725293    3358 cuda_blas.cc:1418] Unable to register cuBLAS factory: Attempting to register factory for plugin cuBLAS when one has already been registered\n",
      "2025-04-24 20:25:14.877467: I tensorflow/core/platform/cpu_feature_guard.cc:210] This TensorFlow binary is optimized to use available CPU instructions in performance-critical operations.\n",
      "To enable the following instructions: AVX2 FMA, in other operations, rebuild TensorFlow with the appropriate compiler flags.\n"
     ]
    }
   ],
   "execution_count": 3
  },
  {
   "metadata": {
    "ExecuteTime": {
     "end_time": "2025-04-24T20:26:55.711770Z",
     "start_time": "2025-04-24T20:25:17.607657Z"
    }
   },
   "cell_type": "code",
   "source": "camargo_ds = process_camargo_data(\"camargo/data/\")",
   "id": "a35bf3d4584b4e68",
   "outputs": [
    {
     "data": {
      "text/plain": [
       "Processing camargo:   0%|          | 0/1237 [00:00<?, ?it/s]"
      ],
      "application/vnd.jupyter.widget-view+json": {
       "version_major": 2,
       "version_minor": 0,
       "model_id": "7d134a3977b143e48d7f9f4f6095f45c"
      }
     },
     "metadata": {},
     "output_type": "display_data"
    }
   ],
   "execution_count": 4
  },
  {
   "metadata": {
    "ExecuteTime": {
     "end_time": "2025-04-24T20:30:00.954041Z",
     "start_time": "2025-04-24T20:30:00.951188Z"
    }
   },
   "cell_type": "code",
   "source": [
    "def vote_activity(imu_data):\n",
    "    activities = [data.activity for data in imu_data]\n",
    "    activity_counts = {activity: activities.count(activity) for activity in set(activities)}\n",
    "    # sort by count\n",
    "    sorted_activities = sorted(activity_counts.items(), key=lambda x: x[1], reverse=True)\n",
    "    # return the most common activity that is not idle\n",
    "    for activity, count in sorted_activities:\n",
    "        if activity != \"idle\" and '-' not in activity and activity != \"stand\":\n",
    "            return activity"
   ],
   "id": "5dae553f89ff9927",
   "outputs": [],
   "execution_count": 30
  },
  {
   "metadata": {
    "ExecuteTime": {
     "end_time": "2025-04-24T20:30:01.275304Z",
     "start_time": "2025-04-24T20:30:01.272050Z"
    }
   },
   "cell_type": "code",
   "source": [
    "class Segment:\n",
    "    def __init__(self):\n",
    "        self.start_time = 0\n",
    "        self.end_time = 0\n",
    "        self.data = []\n",
    "        self.activity = None\n",
    "\n",
    "    def add_data(self, data):\n",
    "        self.data.append(data)\n",
    "        if self.start_time == 0:\n",
    "            self.start_time = data.timestep\n",
    "        self.end_time = data.timestep\n",
    "\n",
    "    def detect_activity(self):\n",
    "        if self.data:\n",
    "            self.activity = vote_activity(self.data) or \"misc\"\n",
    "            if self.end_time-self.start_time > 3:\n",
    "                self.activity = \"misc\"\n",
    "            if \"turn\" in self.activity:\n",
    "                self.activity = \"walk\"\n",
    "        else:\n",
    "            self.activity = None\n",
    "\n",
    "    def interval(self):\n",
    "        return self.end_time - self.start_time"
   ],
   "id": "d016d005238f5a50",
   "outputs": [],
   "execution_count": 31
  },
  {
   "metadata": {
    "ExecuteTime": {
     "end_time": "2025-04-24T20:32:11.027774Z",
     "start_time": "2025-04-24T20:32:10.586928Z"
    }
   },
   "cell_type": "code",
   "source": [
    "segments = []\n",
    "for dataset in camargo_ds:\n",
    "    current_segment = Segment()\n",
    "    integrate_ankle_insole(dataset)\n",
    "    for data in dataset:\n",
    "        if data.heel_striking:\n",
    "            if current_segment.data:\n",
    "                segments.append(current_segment)\n",
    "            current_segment = Segment()\n",
    "        current_segment.add_data(data)\n",
    "    segments.append(current_segment)"
   ],
   "id": "6b92da7eaef59535",
   "outputs": [],
   "execution_count": 48
  },
  {
   "metadata": {
    "ExecuteTime": {
     "end_time": "2025-04-24T20:32:13.148936Z",
     "start_time": "2025-04-24T20:32:11.044286Z"
    }
   },
   "cell_type": "code",
   "source": [
    "# add segments to dataset\n",
    "from dataset import StrideClassificationDataset\n",
    "training_ds = StrideClassificationDataset(segments)\n",
    "print(len(training_ds))"
   ],
   "id": "696865e4e00fdfdc",
   "outputs": [
    {
     "name": "stdout",
     "output_type": "stream",
     "text": [
      "15404\n"
     ]
    }
   ],
   "execution_count": 49
  },
  {
   "metadata": {
    "ExecuteTime": {
     "end_time": "2025-04-24T20:32:13.264937Z",
     "start_time": "2025-04-24T20:32:13.262483Z"
    }
   },
   "cell_type": "code",
   "source": [
    "num_classes = len(training_ds.get_label_encoder().classes_)\n",
    "print(f\"Number of classes: {num_classes}\")"
   ],
   "id": "7fa7a5d6946e68bc",
   "outputs": [
    {
     "name": "stdout",
     "output_type": "stream",
     "text": [
      "Number of classes: 6\n"
     ]
    }
   ],
   "execution_count": 50
  },
  {
   "metadata": {
    "ExecuteTime": {
     "end_time": "2025-04-24T20:32:13.339124Z",
     "start_time": "2025-04-24T20:32:13.336093Z"
    }
   },
   "cell_type": "code",
   "source": "training_ds.get_label_encoder().classes_",
   "id": "3f111119f606fd05",
   "outputs": [
    {
     "data": {
      "text/plain": [
       "array(['misc', 'rampascent', 'rampdescent', 'stairascent', 'stairdescent',\n",
       "       'walk'], dtype='<U12')"
      ]
     },
     "execution_count": 51,
     "metadata": {},
     "output_type": "execute_result"
    }
   ],
   "execution_count": 51
  },
  {
   "metadata": {
    "ExecuteTime": {
     "end_time": "2025-04-24T20:32:13.420882Z",
     "start_time": "2025-04-24T20:32:13.417296Z"
    }
   },
   "cell_type": "code",
   "source": [
    "from collections import Counter\n",
    "print(Counter(seg.activity for seg in segments))"
   ],
   "id": "b4832475ec7bd2b2",
   "outputs": [
    {
     "name": "stdout",
     "output_type": "stream",
     "text": [
      "Counter({'misc': 6295, 'walk': 2982, 'rampdescent': 2231, 'rampascent': 2051, 'stairascent': 925, 'stairdescent': 920})\n"
     ]
    }
   ],
   "execution_count": 52
  },
  {
   "metadata": {
    "ExecuteTime": {
     "end_time": "2025-04-24T20:32:13.616204Z",
     "start_time": "2025-04-24T20:32:13.512703Z"
    }
   },
   "cell_type": "code",
   "source": [
    "from torch.utils.data import DataLoader, Subset\n",
    "from sklearn.model_selection import train_test_split\n",
    "\n",
    "# Split dataset into train, validation, and test sets\n",
    "indices = list(range(len(training_ds)))\n",
    "labels = [training_ds[i][1] for i in indices]\n",
    "\n",
    "# 70% train, 15% val, 15% test\n",
    "train_indices, temp_indices = train_test_split(\n",
    "    indices,\n",
    "    test_size=0.3,\n",
    "    stratify=labels,\n",
    "    random_state=42\n",
    ")\n",
    "\n",
    "val_test_labels = [labels[i] for i in temp_indices]\n",
    "val_indices, test_indices = train_test_split(\n",
    "    temp_indices,\n",
    "    test_size=0.5,\n",
    "    stratify=val_test_labels,\n",
    "    random_state=42\n",
    ")\n",
    "\n",
    "train_subset = Subset(training_ds, train_indices)\n",
    "val_subset = Subset(training_ds, val_indices)\n",
    "test_subset = Subset(training_ds, test_indices)\n",
    "\n",
    "train_loader = DataLoader(train_subset, batch_size=32, shuffle=True)\n",
    "val_loader = DataLoader(val_subset, batch_size=32, shuffle=False)\n",
    "test_loader = DataLoader(test_subset, batch_size=32, shuffle=False)"
   ],
   "id": "970cc601c9d24c9c",
   "outputs": [],
   "execution_count": 53
  },
  {
   "metadata": {
    "ExecuteTime": {
     "end_time": "2025-04-24T20:32:13.705550Z",
     "start_time": "2025-04-24T20:32:13.697219Z"
    }
   },
   "cell_type": "code",
   "source": [
    "import torch\n",
    "import torch.nn as nn\n",
    "import torch.optim as optim\n",
    "from models import StrideClassificationCNN\n",
    "\n",
    "device = torch.device('cuda' if torch.cuda.is_available() else 'cpu')\n",
    "model = StrideClassificationCNN(input_channels=7, num_classes=len(training_ds.get_label_encoder().classes_)).to(device)\n",
    "\n",
    "criterion = nn.CrossEntropyLoss()\n",
    "optimizer = optim.Adam(model.parameters(), lr=1e-3)"
   ],
   "id": "97f292afab26c833",
   "outputs": [],
   "execution_count": 54
  },
  {
   "metadata": {
    "ExecuteTime": {
     "end_time": "2025-04-24T20:30:57.080788Z",
     "start_time": "2025-04-24T20:30:22.586287Z"
    }
   },
   "cell_type": "code",
   "source": [
    "from sklearn.metrics import accuracy_score\n",
    "import matplotlib.pyplot as plt\n",
    "\n",
    "train_losses = []\n",
    "val_accuracies = []\n",
    "\n",
    "for epoch in range(30):\n",
    "    model.train()\n",
    "    total_loss = 0\n",
    "    for X_batch, y_batch in train_loader:\n",
    "        X_batch, y_batch = X_batch.to(device), y_batch.to(device)\n",
    "        optimizer.zero_grad()\n",
    "        outputs = model(X_batch)\n",
    "        loss = criterion(outputs, y_batch)\n",
    "        loss.backward()\n",
    "        optimizer.step()\n",
    "        total_loss += loss.item()\n",
    "\n",
    "    train_losses.append(total_loss / len(train_loader))\n",
    "\n",
    "    # Evaluate on validation set\n",
    "    model.eval()\n",
    "    val_preds = []\n",
    "    val_labels = []\n",
    "    with torch.no_grad():\n",
    "        for X_batch, y_batch in val_loader:\n",
    "            X_batch = X_batch.to(device)\n",
    "            outputs = model(X_batch)\n",
    "            preds = torch.argmax(outputs, dim=1).cpu()\n",
    "            val_preds.extend(preds.numpy())\n",
    "            val_labels.extend(y_batch.numpy())\n",
    "    val_accuracy = accuracy_score(val_labels, val_preds)\n",
    "    val_accuracies.append(val_accuracy)\n",
    "\n",
    "    print(f\"Epoch {epoch+1}, Loss: {train_losses[-1]:.4f}, Val Acc: {val_accuracy:.4f}\")\n",
    "\n",
    "# Plot training loss\n",
    "plt.figure()\n",
    "plt.plot(train_losses, label=\"Train Loss\")\n",
    "plt.xlabel(\"Epoch\")\n",
    "plt.ylabel(\"Loss\")\n",
    "plt.title(\"Training Loss\")\n",
    "plt.legend()\n",
    "plt.show()\n",
    "\n",
    "# Plot validation accuracy\n",
    "plt.figure()\n",
    "plt.plot(val_accuracies, label=\"Validation Accuracy\")\n",
    "plt.xlabel(\"Epoch\")\n",
    "plt.ylabel(\"Accuracy\")\n",
    "plt.title(\"Validation Accuracy\")\n",
    "plt.legend()\n",
    "plt.show()"
   ],
   "id": "f0d4fa54a846c152",
   "outputs": [
    {
     "name": "stdout",
     "output_type": "stream",
     "text": [
      "Epoch 1, Loss: 0.3713, Val Acc: 0.9559\n",
      "Epoch 2, Loss: 0.1569, Val Acc: 0.9632\n",
      "Epoch 3, Loss: 0.1263, Val Acc: 0.9732\n",
      "Epoch 4, Loss: 0.0995, Val Acc: 0.9736\n",
      "Epoch 5, Loss: 0.0846, Val Acc: 0.9641\n",
      "Epoch 6, Loss: 0.0706, Val Acc: 0.9762\n",
      "Epoch 7, Loss: 0.0625, Val Acc: 0.9792\n",
      "Epoch 8, Loss: 0.0596, Val Acc: 0.9818\n",
      "Epoch 9, Loss: 0.0672, Val Acc: 0.9831\n",
      "Epoch 10, Loss: 0.0423, Val Acc: 0.9840\n",
      "Epoch 11, Loss: 0.0424, Val Acc: 0.9667\n",
      "Epoch 12, Loss: 0.0371, Val Acc: 0.9792\n",
      "Epoch 13, Loss: 0.0390, Val Acc: 0.9762\n",
      "Epoch 14, Loss: 0.0325, Val Acc: 0.9732\n",
      "Epoch 15, Loss: 0.0332, Val Acc: 0.9844\n",
      "Epoch 16, Loss: 0.0342, Val Acc: 0.9762\n",
      "Epoch 17, Loss: 0.0304, Val Acc: 0.9840\n",
      "Epoch 18, Loss: 0.0390, Val Acc: 0.9887\n",
      "Epoch 19, Loss: 0.0348, Val Acc: 0.9900\n",
      "Epoch 20, Loss: 0.0205, Val Acc: 0.9883\n",
      "Epoch 21, Loss: 0.0273, Val Acc: 0.9866\n",
      "Epoch 22, Loss: 0.0236, Val Acc: 0.9853\n",
      "Epoch 23, Loss: 0.0278, Val Acc: 0.9883\n",
      "Epoch 24, Loss: 0.0152, Val Acc: 0.9844\n",
      "Epoch 25, Loss: 0.0315, Val Acc: 0.9857\n",
      "Epoch 26, Loss: 0.0267, Val Acc: 0.9866\n",
      "Epoch 27, Loss: 0.0200, Val Acc: 0.9844\n",
      "Epoch 28, Loss: 0.0204, Val Acc: 0.9823\n",
      "Epoch 29, Loss: 0.0188, Val Acc: 0.9831\n",
      "Epoch 30, Loss: 0.0213, Val Acc: 0.9866\n"
     ]
    },
    {
     "data": {
      "text/plain": [
       "<Figure size 640x480 with 1 Axes>"
      ],
      "image/png": "[encoded data removed]"
     },
     "metadata": {},
     "output_type": "display_data"
    },
    {
     "data": {
      "text/plain": [
       "<Figure size 640x480 with 1 Axes>"
      ],
      "image/png": "[encoded data removed]"
     },
     "metadata": {},
     "output_type": "display_data"
    }
   ],
   "execution_count": 39
  },
  {
   "metadata": {
    "ExecuteTime": {
     "end_time": "2025-04-24T20:30:59.527540Z",
     "start_time": "2025-04-24T20:30:59.511683Z"
    }
   },
   "cell_type": "code",
   "source": [
    "# save model\n",
    "torch.save(model.state_dict(), \"stride_classification_model.pth\")"
   ],
   "id": "899f6b977f4f53a6",
   "outputs": [],
   "execution_count": 40
  },
  {
   "metadata": {
    "ExecuteTime": {
     "end_time": "2025-04-24T20:32:38.657238Z",
     "start_time": "2025-04-24T20:32:38.625533Z"
    }
   },
   "cell_type": "code",
   "source": [
    "# load model\n",
    "model = StrideClassificationCNN(input_channels=7, num_classes=len(training_ds.get_label_encoder().classes_)).to(device)\n",
    "model.load_state_dict(torch.load(\"stride_classification_model.pth\"))"
   ],
   "id": "ef5fa76576099040",
   "outputs": [
    {
     "name": "stderr",
     "output_type": "stream",
     "text": [
      "/tmp/ipykernel_3358/926083013.py:3: FutureWarning: You are using `torch.load` with `weights_only=False` (the current default value), which uses the default pickle module implicitly. It is possible to construct malicious pickle data which will execute arbitrary code during unpickling (See https://github.com/pytorch/pytorch/blob/main/SECURITY.md#untrusted-models for more details). In a future release, the default value for `weights_only` will be flipped to `True`. This limits the functions that could be executed during unpickling. Arbitrary objects will no longer be allowed to be loaded via this mode unless they are explicitly allowlisted by the user via `torch.serialization.add_safe_globals`. We recommend you start setting `weights_only=True` for any use case where you don't have full control of the loaded file. Please open an issue on GitHub for any issues related to this experimental feature.\n",
      "  model.load_state_dict(torch.load(\"stride_classification_model.pth\"))\n"
     ]
    },
    {
     "data": {
      "text/plain": [
       "<All keys matched successfully>"
      ]
     },
     "execution_count": 56,
     "metadata": {},
     "output_type": "execute_result"
    }
   ],
   "execution_count": 56
  },
  {
   "metadata": {
    "ExecuteTime": {
     "end_time": "2025-04-24T20:32:39.653315Z",
     "start_time": "2025-04-24T20:32:39.523719Z"
    }
   },
   "cell_type": "code",
   "source": [
    "# Final evaluation on test set\n",
    "from sklearn.metrics import classification_report\n",
    "model.eval()\n",
    "all_preds = []\n",
    "all_labels = []\n",
    "\n",
    "with torch.no_grad():\n",
    "    for X_batch, y_batch in test_loader:\n",
    "        X_batch = X_batch.to(device)\n",
    "        outputs = model(X_batch)\n",
    "        preds = torch.argmax(outputs, dim=1).cpu()\n",
    "        all_preds.extend(preds.numpy())\n",
    "        all_labels.extend(y_batch.numpy())\n",
    "\n",
    "# Decode and print classification report\n",
    "label_encoder = training_ds.get_label_encoder()\n",
    "labels = list(range(len(label_encoder.classes_)))\n",
    "print(\"Test Classification Report:\")\n",
    "print(classification_report(all_labels, all_preds, labels=labels, target_names=label_encoder.classes_))"
   ],
   "id": "274c47813b7008b",
   "outputs": [
    {
     "name": "stdout",
     "output_type": "stream",
     "text": [
      "Test Classification Report:\n",
      "              precision    recall  f1-score   support\n",
      "\n",
      "        misc       0.99      0.99      0.99       944\n",
      "  rampascent       1.00      0.99      1.00       307\n",
      " rampdescent       0.99      1.00      1.00       335\n",
      " stairascent       0.99      0.97      0.98       139\n",
      "stairdescent       0.98      0.98      0.98       138\n",
      "        walk       1.00      0.98      0.99       448\n",
      "\n",
      "    accuracy                           0.99      2311\n",
      "   macro avg       0.99      0.99      0.99      2311\n",
      "weighted avg       0.99      0.99      0.99      2311\n",
      "\n"
     ]
    }
   ],
   "execution_count": 57
  },
  {
   "metadata": {
    "ExecuteTime": {
     "end_time": "2025-04-24T20:31:10.470973Z",
     "start_time": "2025-04-24T20:31:07.230289Z"
    }
   },
   "cell_type": "code",
   "source": [
    "michael_walk_data, insole_data, _ = load_data_from_folder(\"data/04_03_walk/\", [50,159], [149,202], 0, 30.5731)\n",
    "integrate_ankle_insole(michael_walk_data, insole_data)\n",
    "michael_walk_data = normalize_ankle_angle(michael_walk_data)\n",
    "for data in michael_walk_data:\n",
    "    data.activity = \"walk\"\n",
    "\n",
    "michael_downramp_data, insole_data, _ = load_data_from_folder(\"data/01_16_ramp/\", [10,43], [20,55], 0, -0.8789)\n",
    "integrate_ankle_insole(michael_downramp_data, insole_data)\n",
    "michael_downramp_data = normalize_ankle_angle(michael_downramp_data)\n",
    "for data in michael_downramp_data:\n",
    "    data.activity = \"rampdescent\"\n",
    "\n",
    "michael_upramp_data, insole_data, _ = load_data_from_folder(\"data/01_16_ramp/\", [23,62], [34,71], 0, -0.8789)\n",
    "integrate_ankle_insole(michael_upramp_data, insole_data)\n",
    "michael_upramp_data = normalize_ankle_angle(michael_upramp_data)\n",
    "for data in michael_upramp_data:\n",
    "    data.activity = \"rampascent\"\n",
    "\n",
    "michael_downstairs_data, insole_data, _ = load_data_from_folder(\"data/01_22_downstairs/\", 20, 1e9, 0, 0.3675)\n",
    "integrate_ankle_insole(michael_downstairs_data, insole_data)\n",
    "michael_downstairs_data = normalize_ankle_angle(michael_downstairs_data)\n",
    "for data in michael_downstairs_data:\n",
    "    data.activity = \"stairdescent\"\n",
    "\n",
    "michael_upstairs_data, insole_data, _ = load_data_from_folder(\"data/01_22_upstairs/\", 0, 1e9, 0, 2.5461)\n",
    "integrate_ankle_insole(michael_upstairs_data, insole_data)\n",
    "michael_upstairs_data = normalize_ankle_angle(michael_upstairs_data)\n",
    "for data in michael_upstairs_data:\n",
    "    data.activity = \"stairascent\"\n",
    "\n",
    "mohsen_walk_data, insole_data, _ = load_data_from_folder(\"data/04_14_walk_stair_vending/\", 0, 1e9, 0, -60.3619)\n",
    "integrate_ankle_insole(mohsen_walk_data, insole_data)\n",
    "mohsen_walk_data = normalize_ankle_angle(mohsen_walk_data)\n",
    "for data in mohsen_walk_data:\n",
    "    data.activity = \"walk\"\n",
    "\n",
    "mohsen_walk_data2, insole_data, _ = load_data_from_folder(\"data/04_14_walk_vending_stair/\", 0, 1e9, 0, -6.8690)\n",
    "integrate_ankle_insole(mohsen_walk_data2, insole_data)\n",
    "mohsen_walk_data2 = normalize_ankle_angle(mohsen_walk_data2)\n",
    "for data in mohsen_walk_data2:\n",
    "    data.activity = \"walk\"\n",
    "\n",
    "mohsen_walk_data3, insole_data, _ = load_data_from_folder(\"data/04_14_outdoor_fitz_walk/\", 0, 1e9, 0, -7.9118)\n",
    "integrate_ankle_insole(mohsen_walk_data3, insole_data)\n",
    "mohsen_walk_data3 = normalize_ankle_angle(mohsen_walk_data3)\n",
    "for data in mohsen_walk_data3:\n",
    "    data.activity = \"walk\"\n",
    "\n",
    "mohsen_walk_data4, insole_data, _ = load_data_from_folder(\"data/04_14_walk_fitz_bond/\", 0, 1e9, 0, -35.8358)\n",
    "integrate_ankle_insole(mohsen_walk_data4, insole_data)\n",
    "mohsen_walk_data4 = normalize_ankle_angle(mohsen_walk_data4)\n",
    "for data in mohsen_walk_data4:\n",
    "    data.activity = \"walk\"\n",
    "\n",
    "mohsen_walk_data5, insole_data, _ = load_data_from_folder(\"data/04_14_walk_main_fitz/\", 0, 1e9, 0, 3.4172)\n",
    "integrate_ankle_insole(mohsen_walk_data5, insole_data)\n",
    "mohsen_walk_data5 = normalize_ankle_angle(mohsen_walk_data5)\n",
    "for data in mohsen_walk_data5:\n",
    "    data.activity = \"walk\"\n",
    "\n",
    "mohsen_downramp_data1, insole_data, _ = load_data_from_folder(\"data/04_14_downramp_bond_x2/\", 0, 1e9, 0, -22.4661)\n",
    "integrate_ankle_insole(mohsen_downramp_data1, insole_data)\n",
    "mohsen_downramp_data1 = normalize_ankle_angle(mohsen_downramp_data1)\n",
    "for data in mohsen_downramp_data1:\n",
    "    data.activity = \"rampdescent\"\n",
    "\n",
    "mohsen_downramp_data2, insole_data, _ = load_data_from_folder(\"data/04_14_downramp_lake/\", 0, 1e9, 0, -7.1484)\n",
    "integrate_ankle_insole(mohsen_downramp_data2, insole_data)\n",
    "mohsen_downramp_data2 = normalize_ankle_angle(mohsen_downramp_data2)\n",
    "for data in mohsen_downramp_data2:\n",
    "    data.activity = \"rampdescent\"\n",
    "\n",
    "mohsen_downramp_data3, insole_data, _ = load_data_from_folder(\"data/04_14_downramp_columba_hall/\", 0, 1e9, 0, 2.3692)\n",
    "integrate_ankle_insole(mohsen_downramp_data3, insole_data)\n",
    "mohsen_downramp_data3 = normalize_ankle_angle(mohsen_downramp_data3)\n",
    "for data in mohsen_downramp_data3:\n",
    "    data.activity = \"rampdescent\"\n",
    "\n",
    "mohsen_upramp_data1, insole_data, _ = load_data_from_folder(\"data/04_14_upramp_bond_x2/\", 0, 1e9, 0, 1.4235)\n",
    "integrate_ankle_insole(mohsen_upramp_data1, insole_data)\n",
    "mohsen_upramp_data1 = normalize_ankle_angle(mohsen_upramp_data1)\n",
    "for data in mohsen_upramp_data1:\n",
    "    data.activity = \"rampascent\"\n",
    "\n",
    "mohsen_upramp_data2, insole_data, _ = load_data_from_folder(\"data/04_14_upramp_lake/\", 0, 1e9, 0, 2.7880)\n",
    "integrate_ankle_insole(mohsen_upramp_data2, insole_data)\n",
    "mohsen_upramp_data2 = normalize_ankle_angle(mohsen_upramp_data2)\n",
    "for data in mohsen_upramp_data2:\n",
    "    data.activity = \"rampascent\"\n",
    "\n",
    "mohsen_upramp_data3, insole_data, _ = load_data_from_folder(\"data/04_14_upramp_columba_hall/\", 0, 1e9, 0, -7.3961)\n",
    "integrate_ankle_insole(mohsen_upramp_data3, insole_data)\n",
    "mohsen_upramp_data3 = normalize_ankle_angle(mohsen_upramp_data3)\n",
    "for data in mohsen_upramp_data3:\n",
    "    data.activity = \"rampascent\"\n",
    "\n",
    "mohsen_upstairs_data1, insole_data, _ = load_data_from_folder(\"data/04_14_upstairs_leftfoot_main/\", 0, 1e9, 0, -13.6291)\n",
    "integrate_ankle_insole(mohsen_upstairs_data1, insole_data)\n",
    "mohsen_upstairs_data1 = normalize_ankle_angle(mohsen_upstairs_data1)\n",
    "for data in mohsen_upstairs_data1:\n",
    "    data.activity = \"stairascent\"\n",
    "\n",
    "mohsen_upstairs_data2, insole_data, _ = load_data_from_folder(\"data/04_14_upstairs_rightfoot_main/\", 0, 1e9, 0, -11.0419)\n",
    "integrate_ankle_insole(mohsen_upstairs_data2, insole_data)\n",
    "mohsen_upstairs_data2 = normalize_ankle_angle(mohsen_upstairs_data2)\n",
    "for data in mohsen_upstairs_data2:\n",
    "    data.activity = \"stairascent\"\n",
    "\n",
    "mohsen_downstairs_data1, insole_data, _ = load_data_from_folder(\"data/04_14_downstairs_leftfoot_main/\", 0, 1e9, 0, 9.3960)\n",
    "integrate_ankle_insole(mohsen_downstairs_data1, insole_data)\n",
    "mohsen_downstairs_data1 = normalize_ankle_angle(mohsen_downstairs_data1)\n",
    "for data in mohsen_downstairs_data1:\n",
    "    data.activity = \"stairdescent\"\n",
    "\n",
    "mohsen_downstairs_data2, insole_data, _ = load_data_from_folder(\"data/04_14_downstairs_rightfoot_main/\", 0, 1e9, 0, 5.0417)\n",
    "integrate_ankle_insole(mohsen_downstairs_data2, insole_data)\n",
    "mohsen_downstairs_data2 = normalize_ankle_angle(mohsen_downstairs_data2)\n",
    "for data in mohsen_downstairs_data2:\n",
    "    data.activity = \"stairdescent\"\n",
    "\n",
    "michael_data = michael_walk_data + michael_downramp_data + michael_upramp_data + michael_downstairs_data + michael_upstairs_data\n",
    "mohsen_data = mohsen_walk_data + mohsen_walk_data2 + mohsen_walk_data3 + mohsen_walk_data4 + mohsen_walk_data5 + \\\n",
    "    mohsen_downramp_data1 + mohsen_downramp_data2 + mohsen_downramp_data3 + \\\n",
    "    mohsen_upramp_data1 + mohsen_upramp_data2 + mohsen_upramp_data3 + \\\n",
    "    mohsen_upstairs_data1 + mohsen_upstairs_data2 + \\\n",
    "    mohsen_downstairs_data1 + mohsen_downstairs_data2"
   ],
   "id": "36138a43de91e939",
   "outputs": [],
   "execution_count": 42
  },
  {
   "metadata": {
    "ExecuteTime": {
     "end_time": "2025-04-24T20:32:49.818420Z",
     "start_time": "2025-04-24T20:32:49.661622Z"
    }
   },
   "cell_type": "code",
   "source": [
    "segments = []\n",
    "current_segment = Segment()\n",
    "for data in mohsen_data:\n",
    "    if data.heel_striking:\n",
    "        if current_segment.data:\n",
    "            segments.append(current_segment)\n",
    "        current_segment = Segment()\n",
    "    current_segment.add_data(data)\n",
    "segments.append(current_segment)\n",
    "training_ds = StrideClassificationDataset(segments)"
   ],
   "id": "2b028527985407ab",
   "outputs": [],
   "execution_count": 58
  },
  {
   "metadata": {
    "ExecuteTime": {
     "end_time": "2025-04-24T20:32:50.073033Z",
     "start_time": "2025-04-24T20:32:50.059676Z"
    }
   },
   "cell_type": "code",
   "source": [
    "from torch.utils.data import DataLoader, Subset\n",
    "from sklearn.model_selection import train_test_split\n",
    "\n",
    "# Split dataset into train, validation, and test sets\n",
    "indices = list(range(len(training_ds)))\n",
    "labels = [training_ds[i][1] for i in indices]\n",
    "\n",
    "# 70% train, 30%\n",
    "train_indices, test_indices = train_test_split(\n",
    "    indices,\n",
    "    test_size=0.7,\n",
    "    stratify=labels,\n",
    "    random_state=42\n",
    ")\n",
    "\n",
    "train_subset = Subset(training_ds, train_indices)\n",
    "test_subset = Subset(training_ds, test_indices)\n",
    "\n",
    "train_loader = DataLoader(train_subset, batch_size=32, shuffle=True)\n",
    "test_loader = DataLoader(test_subset, batch_size=32, shuffle=False)"
   ],
   "id": "f5c69d70d6894476",
   "outputs": [],
   "execution_count": 59
  },
  {
   "metadata": {
    "ExecuteTime": {
     "end_time": "2025-04-24T20:31:21.449458Z",
     "start_time": "2025-04-24T20:31:20.629662Z"
    }
   },
   "cell_type": "code",
   "source": [
    "from sklearn.metrics import accuracy_score\n",
    "import matplotlib.pyplot as plt\n",
    "\n",
    "train_losses = []\n",
    "val_accuracies = []\n",
    "\n",
    "for epoch in range(15):\n",
    "    model.train()\n",
    "    total_loss = 0\n",
    "    for X_batch, y_batch in train_loader:\n",
    "        X_batch, y_batch = X_batch.to(device), y_batch.to(device)\n",
    "        optimizer.zero_grad()\n",
    "        outputs = model(X_batch)\n",
    "        loss = criterion(outputs, y_batch)\n",
    "        loss.backward()\n",
    "        optimizer.step()\n",
    "        total_loss += loss.item()\n",
    "\n",
    "    train_losses.append(total_loss / len(train_loader))\n",
    "\n",
    "    print(f\"Epoch {epoch+1}, Loss: {train_losses[-1]:.4f}\")\n",
    "\n",
    "# Plot training loss\n",
    "plt.figure()\n",
    "plt.plot(train_losses, label=\"Train Loss\")\n",
    "plt.xlabel(\"Epoch\")\n",
    "plt.ylabel(\"Loss\")\n",
    "plt.title(\"Training Loss\")\n",
    "plt.legend()\n",
    "plt.show()"
   ],
   "id": "c0c4c30c66bdeca4",
   "outputs": [
    {
     "name": "stdout",
     "output_type": "stream",
     "text": [
      "Epoch 1, Loss: 3.5011\n",
      "Epoch 2, Loss: 0.8276\n",
      "Epoch 3, Loss: 0.7601\n",
      "Epoch 4, Loss: 0.7206\n",
      "Epoch 5, Loss: 0.6656\n",
      "Epoch 6, Loss: 0.5990\n",
      "Epoch 7, Loss: 0.5508\n",
      "Epoch 8, Loss: 0.5183\n",
      "Epoch 9, Loss: 0.5425\n",
      "Epoch 10, Loss: 0.5111\n",
      "Epoch 11, Loss: 0.4920\n",
      "Epoch 12, Loss: 0.4696\n",
      "Epoch 13, Loss: 0.4261\n",
      "Epoch 14, Loss: 0.4601\n",
      "Epoch 15, Loss: 0.4166\n"
     ]
    },
    {
     "data": {
      "text/plain": [
       "<Figure size 640x480 with 1 Axes>"
      ],
      "image/png": "[encoded data removed]"
     },
     "metadata": {},
     "output_type": "display_data"
    }
   ],
   "execution_count": 45
  },
  {
   "metadata": {
    "ExecuteTime": {
     "end_time": "2025-04-24T20:32:53.374836Z",
     "start_time": "2025-04-24T20:32:53.307687Z"
    }
   },
   "cell_type": "code",
   "source": [
    "# Final evaluation on test set\n",
    "from sklearn.metrics import classification_report\n",
    "model.eval()\n",
    "all_preds = []\n",
    "all_labels = []\n",
    "\n",
    "with torch.no_grad():\n",
    "    for X_batch, y_batch in test_loader:\n",
    "        X_batch = X_batch.to(device)\n",
    "        outputs = model(X_batch)\n",
    "        preds = torch.argmax(outputs, dim=1).cpu()\n",
    "        all_preds.extend(preds.numpy())\n",
    "        all_labels.extend(y_batch.numpy())\n",
    "\n",
    "# Decode and print classification report\n",
    "label_encoder = training_ds.get_label_encoder()\n",
    "labels = list(range(len(label_encoder.classes_)))\n",
    "print(\"Test Classification Report:\")\n",
    "print(classification_report(all_labels, all_preds, labels=labels, target_names=label_encoder.classes_))"
   ],
   "id": "2ec01ed978fa173f",
   "outputs": [
    {
     "name": "stdout",
     "output_type": "stream",
     "text": [
      "Test Classification Report:\n",
      "              precision    recall  f1-score   support\n",
      "\n",
      "        misc       0.01      1.00      0.02         8\n",
      "  rampascent       0.21      0.28      0.24       159\n",
      " rampdescent       1.00      0.01      0.02       169\n",
      " stairascent       0.38      0.29      0.32        42\n",
      "stairdescent       0.76      0.37      0.50        35\n",
      "        walk       0.52      0.02      0.03       698\n",
      "\n",
      "    accuracy                           0.08      1111\n",
      "   macro avg       0.48      0.33      0.19      1111\n",
      "weighted avg       0.55      0.08      0.09      1111\n",
      "\n"
     ]
    }
   ],
   "execution_count": 60
  },
  {
   "metadata": {
    "ExecuteTime": {
     "end_time": "2025-04-03T21:22:22.956403Z",
     "start_time": "2025-04-03T21:22:22.954682Z"
    }
   },
   "cell_type": "code",
   "source": "",
   "id": "bed864e33d235e2c",
   "outputs": [],
   "execution_count": null
  }
 ],
 "metadata": {
  "kernelspec": {
   "display_name": "Python 3",
   "language": "python",
   "name": "python3"
  },
  "language_info": {
   "codemirror_mode": {
    "name": "ipython",
    "version": 2
   },
   "file_extension": ".py",
   "mimetype": "text/x-python",
   "name": "python",
   "nbconvert_exporter": "python",
   "pygments_lexer": "ipython2",
   "version": "2.7.6"
  }
 },
 "nbformat": 4,
 "nbformat_minor": 5
}
